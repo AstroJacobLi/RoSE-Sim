{
 "cells": [
  {
   "cell_type": "code",
   "execution_count": 2,
   "id": "459454b2-5fb1-4ab1-8cc4-183dce3a2944",
   "metadata": {},
   "outputs": [],
   "source": [
    "%load_ext autoreload\n",
    "%autoreload 2\n",
    "\n",
    "import os\n",
    "import numpy as np\n",
    "import matplotlib.pyplot as plt\n",
    "\n",
    "import astropy.units as u\n",
    "from astropy.io import fits\n",
    "from astropy.table import Table, Column, hstack, vstack\n",
    "import kuaizi\n",
    "\n",
    "kuaizi.set_matplotlib(style='JL', usetex=True, fontsize=17, dpi=100)\n",
    "kuaizi.set_env(project='SBF', name='', data_dir='/scratch/gpfs/JENNYG/jiaxuanl/Data/')\n",
    "\n",
    "import sys\n",
    "sys.path.append('/home/jiaxuanl/Research/SBF/src')\n",
    "sys.path.append('/home/jiaxuanl/Research/SBF/src/SBF')\n",
    "import artpop\n",
    "rng = np.random.RandomState(100)"
   ]
  },
  {
   "cell_type": "code",
   "execution_count": 2,
   "id": "3c360895-2648-4fcc-bd1c-1176f3f4b360",
   "metadata": {},
   "outputs": [
    {
     "name": "stdout",
     "output_type": "stream",
     "text": [
      "[-2.   -1.75 -1.5  -1.25 -1.   -0.75 -0.5  -0.25  0.  ]\n",
      "[ 9.          9.30103     9.47712125  9.60205999  9.69897     9.77815125\n",
      "  9.84509804  9.90308999  9.95424251 10.         10.04139269 10.07918125]\n"
     ]
    }
   ],
   "source": [
    "fehs = np.arange(-2, 0.01, 0.25)\n",
    "log_ages = 9 + np.log10(np.arange(1, 12.1, 1))\n",
    "feh_age_mesh = np.meshgrid(fehs, log_ages)\n",
    "print(fehs)\n",
    "print(log_ages)"
   ]
  },
  {
   "cell_type": "code",
   "execution_count": 14,
   "id": "fab8c114-691a-412f-9c9c-f2003128523b",
   "metadata": {},
   "outputs": [
    {
     "data": {
      "text/plain": [
       "(9, 12)"
      ]
     },
     "execution_count": 14,
     "metadata": {},
     "output_type": "execute_result"
    }
   ],
   "source": [
    "len(fehs), len(log_ages)"
   ]
  },
  {
   "cell_type": "code",
   "execution_count": 17,
   "id": "394a00bf-52dc-44e0-a73c-37322e1fb297",
   "metadata": {},
   "outputs": [],
   "source": [
    "from tqdm import trange"
   ]
  },
  {
   "cell_type": "code",
   "execution_count": 3,
   "id": "ecdc7d49-6a3b-4fd8-b589-46b2f1670aaa",
   "metadata": {},
   "outputs": [
    {
     "name": "stderr",
     "output_type": "stream",
     "text": [
      "2025-08-12 23:16:47 INFO     Note: NumExpr detected 64 cores but \"NUMEXPR_MAX_THREADS\" not set, so enforcing safe limit of 16.\n",
      "2025-08-12 23:16:47 INFO     NumExpr defaulting to 16 threads.\n"
     ]
    }
   ],
   "source": [
    "from rosesim import Roman_zp_AB_Vega_mist, JWST_zp_AB_Vega"
   ]
  },
  {
   "cell_type": "code",
   "execution_count": 18,
   "id": "abcce0bc-f752-41b9-ab46-76636b0ef21c",
   "metadata": {},
   "outputs": [
    {
     "name": "stdout",
     "output_type": "stream",
     "text": [
      "['R062', 'Z087', 'Y106', 'J129', 'W146', 'H158', 'F184']\n"
     ]
    }
   ],
   "source": [
    "phot_system = 'WFIRST'\n",
    "iso = artpop.MISTIsochrone(\n",
    "    log_age = np.log10(1e8),          # log of age in years\n",
    "    feh = -1.5,             # metallicity [Fe/H]\n",
    "    phot_system = phot_system, # photometric system(s)\n",
    ")\n",
    "bands = iso.filters\n",
    "print(bands)"
   ]
  },
  {
   "cell_type": "code",
   "execution_count": 19,
   "id": "73f4b1c1-e1d3-4d08-8bbb-8173c9d4071c",
   "metadata": {},
   "outputs": [
    {
     "name": "stderr",
     "output_type": "stream",
     "text": [
      "100%|█████████████████████████████████████████████████████████████████████████████████████████████████████████████████████████████████████████████| 9/9 [02:55<00:00, 19.48s/it]\n"
     ]
    }
   ],
   "source": [
    "sbf_mag = np.zeros((len(fehs), len(log_ages), len(bands)))\n",
    "ssp_mag = np.zeros((len(fehs), len(log_ages), len(bands)))\n",
    "\n",
    "for i in trange(len(fehs)):\n",
    "    for j in range(len(log_ages)):\n",
    "        iso = artpop.MISTIsochrone(\n",
    "            feh = fehs[i],             # metallicity [Fe/H]\n",
    "            log_age = log_ages[j],          # log of age in years\n",
    "            phot_system = phot_system, # photometric system(s)\n",
    "        )\n",
    "        for k, filt in enumerate(bands):\n",
    "            sbf_mag[i][j][k] = iso.ssp_sbf_mag(filt)\n",
    "            ssp_mag[i][j][k] = iso.ssp_mag(filt)\n",
    "    \n",
    "np.save('./MIST/WFIRST_sbf_mag.npy', sbf_mag)\n",
    "np.save('./MIST/WFIRST_ssp_mag.npy', ssp_mag)"
   ]
  },
  {
   "cell_type": "code",
   "execution_count": 35,
   "id": "ca083a85-378a-4ca5-8317-2a50da5480d4",
   "metadata": {},
   "outputs": [],
   "source": [
    "isochrone = 'MIST'\n",
    "ssp_mag = dict(roman=np.load(f'./{isochrone}/WFIRST_ssp_mag.npy')[:, 2:, :], \n",
    "               jwst=np.load(f'./{isochrone}/JWST_ssp_mag.npy')[:, 2:, :])\n",
    "# JWST is already in AB. See SBF_calib/IR/01_IR_JWST_pred.ipynb"
   ]
  },
  {
   "cell_type": "code",
   "execution_count": 36,
   "id": "69d34c8d-7c94-4c5f-a3c9-2557e88d2c3c",
   "metadata": {},
   "outputs": [
    {
     "data": {
      "text/plain": [
       "((9, 10, 7), (9, 10, 5))"
      ]
     },
     "execution_count": 36,
     "metadata": {},
     "output_type": "execute_result"
    }
   ],
   "source": [
    "ssp_mag['roman'].shape, ssp_mag['jwst'].shape"
   ]
  },
  {
   "cell_type": "code",
   "execution_count": 37,
   "id": "5a0c5597-76ac-4039-9d14-82f0534bd5c1",
   "metadata": {},
   "outputs": [
    {
     "name": "stdout",
     "output_type": "stream",
     "text": [
      "['R062', 'Z087', 'Y106', 'J129', 'W146', 'H158', 'F184']\n"
     ]
    }
   ],
   "source": [
    "phot_system = 'WFIRST'\n",
    "iso = artpop.MISTIsochrone(\n",
    "    log_age = np.log10(1e8),          # log of age in years\n",
    "    feh = -1.5,             # metallicity [Fe/H]\n",
    "    phot_system = phot_system, # photometric system(s)\n",
    ")\n",
    "bands = iso.filters\n",
    "print(bands)\n",
    "\n",
    "for i, filt in enumerate(bands):\n",
    "    ssp_mag['roman'][..., i] += Roman_zp_AB_Vega_mist[filt]"
   ]
  },
  {
   "cell_type": "code",
   "execution_count": null,
   "id": "1445b33e-0d04-4cb3-817f-74aea7806466",
   "metadata": {},
   "outputs": [],
   "source": [
    "# bands = ['F090W', 'F115W', 'F150W', 'F277W', 'F444W']"
   ]
  },
  {
   "cell_type": "code",
   "execution_count": null,
   "id": "0a223440-a2e4-4cb1-8611-7b7f44c94ee0",
   "metadata": {},
   "outputs": [],
   "source": [
    "# Y106 = F115 + 0.03\n",
    "# "
   ]
  },
  {
   "cell_type": "code",
   "execution_count": 84,
   "id": "16889a82-a40a-4f86-9df2-a7f93071766d",
   "metadata": {},
   "outputs": [],
   "source": [
    "J129 = ssp_mag['roman'][..., 3].ravel()\n",
    "Y106 = ssp_mag['roman'][..., 2].ravel()\n",
    "W146 =  ssp_mag['roman'][..., 4].ravel()\n",
    "H158 = ssp_mag['roman'][..., 5].ravel()\n",
    "F184 = ssp_mag['roman'][..., 6].ravel()"
   ]
  },
  {
   "cell_type": "code",
   "execution_count": 85,
   "id": "94010695-1fc2-40f8-9a67-f5942f467fa6",
   "metadata": {},
   "outputs": [],
   "source": [
    "F115 = ssp_mag['jwst'][..., 1].ravel()\n",
    "F150 = ssp_mag['jwst'][..., 2].ravel()\n",
    "F277 = ssp_mag['jwst'][..., 3].ravel()"
   ]
  },
  {
   "cell_type": "code",
   "execution_count": 86,
   "id": "fca823a7-919a-4db1-bdf8-c64c0185d39e",
   "metadata": {},
   "outputs": [
    {
     "name": "stdout",
     "output_type": "stream",
     "text": [
      "[0.3510699  0.00826781]\n"
     ]
    },
    {
     "data": {
      "text/plain": [
       "(-2.4671622769447924e-18, 0.00414810863454157)"
      ]
     },
     "execution_count": 86,
     "metadata": {},
     "output_type": "execute_result"
    },
    {
     "data": {
      "image/png": "[encoded data removed]",
      "text/plain": [
       "<Figure size 600x500 with 1 Axes>"
      ]
     },
     "metadata": {},
     "output_type": "display_data"
    }
   ],
   "source": [
    "color = F115 - F150\n",
    "\n",
    "diff = Y106 - F115\n",
    "plt.scatter(color, diff)\n",
    "\n",
    "poly = np.polyfit(color, diff, 1)\n",
    "print(poly)\n",
    "\n",
    "sct = np.poly1d(poly)(color) - diff\n",
    "np.mean(sct), np.std(sct)"
   ]
  },
  {
   "cell_type": "code",
   "execution_count": 88,
   "id": "0f607364-ca44-4853-97f0-b6d90a2abdeb",
   "metadata": {},
   "outputs": [
    {
     "data": {
      "text/plain": [
       "<matplotlib.collections.PathCollection at 0x7f7d3a0c77a0>"
      ]
     },
     "execution_count": 88,
     "metadata": {},
     "output_type": "execute_result"
    },
    {
     "data": {
      "image/png": "[encoded data removed]",
      "text/plain": [
       "<Figure size 600x500 with 1 Axes>"
      ]
     },
     "metadata": {},
     "output_type": "display_data"
    }
   ],
   "source": [
    "plt.scatter(Y106, np.poly1d(poly)(color) + F115 - Y106)"
   ]
  },
  {
   "cell_type": "code",
   "execution_count": null,
   "id": "4c04cc5f-7c85-43ea-8d28-10e399bbefe4",
   "metadata": {},
   "outputs": [],
   "source": []
  },
  {
   "cell_type": "code",
   "execution_count": 48,
   "id": "ab0e9c06-a403-4862-b2f6-23b93fdb928e",
   "metadata": {},
   "outputs": [
    {
     "data": {
      "text/plain": [
       "<matplotlib.collections.PathCollection at 0x7f7d4fc4d580>"
      ]
     },
     "execution_count": 48,
     "metadata": {},
     "output_type": "execute_result"
    },
    {
     "data": {
      "image/png": "[encoded data removed]",
      "text/plain": [
       "<Figure size 600x500 with 1 Axes>"
      ]
     },
     "metadata": {},
     "output_type": "display_data"
    }
   ],
   "source": [
    "plt.scatter(mag1, mag1 - mag2)"
   ]
  },
  {
   "cell_type": "markdown",
   "id": "513341af-686d-40d2-940b-24301329c881",
   "metadata": {},
   "source": [
    "### SBF limit"
   ]
  },
  {
   "cell_type": "code",
   "execution_count": 4,
   "id": "6f5f90cf-b027-4f22-8f29-c000fa202f41",
   "metadata": {},
   "outputs": [],
   "source": [
    "from rosesim import Roman_zp_AB_Vega_mist, JWST_zp_AB_Vega"
   ]
  },
  {
   "cell_type": "code",
   "execution_count": 57,
   "id": "40962c9c-fb14-4c58-be40-8442c944ec86",
   "metadata": {},
   "outputs": [
    {
     "name": "stdout",
     "output_type": "stream",
     "text": [
      "['R062', 'Z087', 'Y106', 'J129', 'W146', 'H158', 'F184']\n"
     ]
    }
   ],
   "source": [
    "phot_system = 'WFIRST'\n",
    "iso = artpop.MISTIsochrone(\n",
    "    log_age = np.log10(4e9),          # log of age in years\n",
    "    feh = -1.5,             # metallicity [Fe/H]\n",
    "    phot_system = phot_system, # photometric system(s)\n",
    ")\n",
    "bands = iso.filters\n",
    "print(bands)\n",
    "\n",
    "filters = iso.mag_table.colnames\n",
    "for filt in filters:\n",
    "    iso.mag_table[filt] += Roman_zp_AB_Vega_mist[filt]\n",
    "# now in AB system"
   ]
  },
  {
   "cell_type": "code",
   "execution_count": 58,
   "id": "62bf206c-5944-4f31-9bd7-5ec7b89619c6",
   "metadata": {},
   "outputs": [],
   "source": [
    "def ssp_sbf_mag(iso, Mabs_thresh, bandpass):\n",
    "    wght = iso.imf_weights('kroupa')\n",
    "    flag = iso.mag_table[bandpass] < Mabs_thresh\n",
    "    lumlum = np.sum(wght[flag] * 10**(-0.8 * iso.mag_table[bandpass][flag]))\n",
    "    lum = np.sum(wght * 10**(-0.4 * iso.mag_table[bandpass]))\n",
    "    sbf = -2.5 * np.log10(lumlum / lum)\n",
    "    return sbf"
   ]
  },
  {
   "cell_type": "code",
   "execution_count": null,
   "id": "df018ed4-1862-4204-848f-5cd9af7c0474",
   "metadata": {},
   "outputs": [
    {
     "data": {
      "text/plain": [
       "(-0.01, 0.4)"
      ]
     },
     "execution_count": 59,
     "metadata": {},
     "output_type": "execute_result"
    }
   ],
   "source": [
    "fig, axes = plt.subplots(1, 3, figsize=(11, 3.5), sharey=True)\n",
    "lim_mags = {'Y106': -0.75, 'J129': -1, 'H158': -1}\n",
    "\n",
    "plt.sca(axes[0])\n",
    "band = 'Y106'\n",
    "true_sbf_mag = iso.ssp_sbf_mag(band)\n",
    "for thresh in np.linspace(-4.5, 2, 20):\n",
    "    delta = ssp_sbf_mag(iso, thresh, band) - true_sbf_mag\n",
    "    plt.scatter(thresh, delta, color='C0')\n",
    "plt.axvline(lim_mags[band], ls='--')\n",
    "# plt.axvline(lim_mags[band]-0.4, ls=':')\n",
    "plt.ylabel(r'$\\Delta \\overline{M}_{\\rm SBF}$')\n",
    "plt.xlabel(r'$M_Y < M_{\\rm thresh}$')\n",
    "plt.text(0.7, 0.8, band, transform=plt.gca().transAxes)\n",
    "\n",
    "plt.sca(axes[1])\n",
    "band = 'J129'\n",
    "true_sbf_mag = iso.ssp_sbf_mag(band)\n",
    "for thresh in np.linspace(-4.5, 2, 20):\n",
    "    delta = ssp_sbf_mag(iso, thresh, band) - true_sbf_mag\n",
    "    plt.scatter(thresh, delta, color='C1')\n",
    "plt.axvline(lim_mags[band], ls='--')\n",
    "# plt.axvline(lim_mags[band]-0.4, ls=':')\n",
    "plt.xlabel(r'$M_J < M_{\\rm thresh}$')\n",
    "plt.text(0.7, 0.8, band, transform=plt.gca().transAxes)\n",
    "\n",
    "plt.sca(axes[2])\n",
    "band = 'H158'\n",
    "true_sbf_mag = iso.ssp_sbf_mag(band)\n",
    "for thresh in np.linspace(-4.5, 2, 20):\n",
    "    delta = ssp_sbf_mag(iso, thresh, band) - true_sbf_mag\n",
    "    plt.scatter(thresh, delta, color='C2')\n",
    "plt.axvline(lim_mags[band], ls='--')\n",
    "# plt.axvline(lim_mags[band]-0.4, ls=':')\n",
    "plt.xlabel(r'$M_H < M_{\\rm thresh}$')\n",
    "plt.text(0.7, 0.8, band, transform=plt.gca().transAxes)\n",
    "\n",
    "plt.subplots_adjust(wspace=0.03)\n",
    "\n",
    "plt.ylim(-0.01, 0.4)"
   ]
  },
  {
   "cell_type": "code",
   "execution_count": null,
   "id": "44a334ec-3e24-4173-9803-1c7bc0e17945",
   "metadata": {},
   "outputs": [],
   "source": []
  }
 ],
 "metadata": {
  "kernelspec": {
   "display_name": "Python 3 (ipykernel)",
   "language": "python",
   "name": "python3"
  },
  "language_info": {
   "codemirror_mode": {
    "name": "ipython",
    "version": 3
   },
   "file_extension": ".py",
   "mimetype": "text/x-python",
   "name": "python",
   "nbconvert_exporter": "python",
   "pygments_lexer": "ipython3",
   "version": "3.12.11"
  }
 },
 "nbformat": 4,
 "nbformat_minor": 5
}
